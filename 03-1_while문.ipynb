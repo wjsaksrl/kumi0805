{
 "cells": [
  {
   "cell_type": "code",
   "execution_count": 3,
   "metadata": {},
   "outputs": [
    {
     "name": "stdout",
     "output_type": "stream",
     "text": [
      "1\n",
      "2\n",
      "3\n",
      "4\n",
      "5\n",
      "6\n",
      "7\n",
      "8\n",
      "9\n",
      "10\n",
      "와장창\n"
     ]
    }
   ],
   "source": [
    "tree_hit=0\n",
    "while tree_hit <10:\n",
    "    tree_hit = tree_hit + 1\n",
    "    print(tree_hit)\n",
    "print(\"와장창\")"
   ]
  },
  {
   "cell_type": "code",
   "execution_count": 9,
   "metadata": {},
   "outputs": [
    {
     "name": "stdout",
     "output_type": "stream",
     "text": [
      "\n",
      "    1. Add\n",
      "    2. Del\n",
      "    3. List\n",
      "    4. quit\n",
      "\n"
     ]
    }
   ],
   "source": [
    "prompt=\"\"\"\n",
    "    1. Add\n",
    "    2. Del\n",
    "    3. List\n",
    "    4. quit\n",
    "\"\"\"\n",
    "\n",
    "number=0\n",
    "\n",
    "while number!=4:\n",
    "    print(prompt)\n",
    "    number=int(input(\"숫자를 입력하세요\"))\n",
    "    "
   ]
  },
  {
   "cell_type": "code",
   "execution_count": 17,
   "metadata": {},
   "outputs": [
    {
     "name": "stdout",
     "output_type": "stream",
     "text": [
      "돈을 받았으니 커피를 줍니다\n",
      "남은 커피의 양은 9개 입니다. \n",
      "돈을 받았으니 커피를 줍니다\n",
      "남은 커피의 양은 8개 입니다. \n",
      "돈을 받았으니 커피를 줍니다\n",
      "남은 커피의 양은 7개 입니다. \n",
      "돈을 받았으니 커피를 줍니다\n",
      "남은 커피의 양은 6개 입니다. \n",
      "돈을 받았으니 커피를 줍니다\n",
      "남은 커피의 양은 5개 입니다. \n",
      "돈을 받았으니 커피를 줍니다\n",
      "남은 커피의 양은 4개 입니다. \n",
      "돈을 받았으니 커피를 줍니다\n",
      "남은 커피의 양은 3개 입니다. \n",
      "돈을 받았으니 커피를 줍니다\n",
      "남은 커피의 양은 2개 입니다. \n",
      "돈을 받았으니 커피를 줍니다\n",
      "남은 커피의 양은 1개 입니다. \n",
      "돈을 받았으니 커피를 줍니다\n",
      "남은 커피의 양은 0개 입니다. \n"
     ]
    }
   ],
   "source": [
    "coffee =10\n",
    "money =300\n",
    "\n",
    "while money:\n",
    "    print(\"돈을 받았으니 커피를 줍니다\")\n",
    "    coffee = coffee-1\n",
    "    print(f\"남은 커피의 양은 {coffee}개 입니다. \")\n",
    "    if coffee == 0:\n",
    "        break\n",
    "    "
   ]
  },
  {
   "cell_type": "code",
   "execution_count": null,
   "metadata": {},
   "outputs": [],
   "source": []
  }
 ],
 "metadata": {
  "kernelspec": {
   "display_name": "Python 3",
   "language": "python",
   "name": "python3"
  },
  "language_info": {
   "codemirror_mode": {
    "name": "ipython",
    "version": 3
   },
   "file_extension": ".py",
   "mimetype": "text/x-python",
   "name": "python",
   "nbconvert_exporter": "python",
   "pygments_lexer": "ipython3",
   "version": "3.12.4"
  }
 },
 "nbformat": 4,
 "nbformat_minor": 2
}
