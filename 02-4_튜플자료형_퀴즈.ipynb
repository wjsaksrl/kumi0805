{
 "cells": [
  {
   "cell_type": "markdown",
   "metadata": {},
   "source": [
    "1. 하나의 요소(2)를 가진 튜플을 작성하시오 "
   ]
  },
  {
   "cell_type": "code",
   "execution_count": 11,
   "metadata": {},
   "outputs": [],
   "source": [
    "a=(2)"
   ]
  },
  {
   "cell_type": "markdown",
   "metadata": {},
   "source": [
    "2. 인덱스 1부터 3까지의 요소를 슬라이싱 하세요\n",
    "* a = (\"a\", \"b\", \"c\", \"d\", \"e\", \"f\")"
   ]
  },
  {
   "cell_type": "code",
   "execution_count": 12,
   "metadata": {},
   "outputs": [
    {
     "name": "stdout",
     "output_type": "stream",
     "text": [
      "('b', 'c', 'd')\n"
     ]
    }
   ],
   "source": [
    "a = (\"a\", \"b\", \"c\", \"d\", \"e\", \"f\")\n",
    "a_=a[1:4]\n",
    "print(a_)"
   ]
  },
  {
   "cell_type": "markdown",
   "metadata": {},
   "source": [
    "3. a = (\"dog\", \"cat\", \"fish\"), b = [\"tiger\", \"horse\", \"lion\"] 각각의 변수에 \"bird\"를 추가해 보세요"
   ]
  },
  {
   "cell_type": "code",
   "execution_count": 19,
   "metadata": {},
   "outputs": [
    {
     "name": "stdout",
     "output_type": "stream",
     "text": [
      "('dog', 'cat', 'fish', 'bird')\n",
      "['tiger', 'horse', 'lion', 'bird']\n"
     ]
    }
   ],
   "source": [
    "a = (\"dog\", \"cat\", \"fish\")\n",
    "b = [\"tiger\", \"horse\", \"lion\"]\n",
    "a = a + (\"bird\",)\n",
    "b.append(\"bird\") \n",
    "\n",
    "print(a)\n",
    "print(b)"
   ]
  },
  {
   "cell_type": "markdown",
   "metadata": {},
   "source": [
    "4. number = (10, 20, 40, 50, 30) 에서 가장 큰 수를 출력하세요 "
   ]
  },
  {
   "cell_type": "code",
   "execution_count": 14,
   "metadata": {},
   "outputs": [
    {
     "name": "stdout",
     "output_type": "stream",
     "text": [
      "50\n"
     ]
    }
   ],
   "source": [
    "number = (10, 20, 40, 50, 30)\n",
    "max_number = max(number)\n",
    "print(max_number)"
   ]
  },
  {
   "cell_type": "markdown",
   "metadata": {},
   "source": [
    "5. a = \"감자\", b = \"고구마\" 일때 a에는 고구마, b에는 감자가 출력하도록 프로그램 하세요 "
   ]
  },
  {
   "cell_type": "code",
   "execution_count": 22,
   "metadata": {},
   "outputs": [
    {
     "name": "stdout",
     "output_type": "stream",
     "text": [
      "a=고구마\n",
      "b=감자\n"
     ]
    }
   ],
   "source": [
    "a = \"감자\"\n",
    "b = \"고구마\"\n",
    "\n",
    "if b == \"고구마\":\n",
    "    print(\"a=고구마\")\n",
    "if a == \"감자\":\n",
    "    print(\"b=감자\")\n",
    "else:pass"
   ]
  },
  {
   "cell_type": "markdown",
   "metadata": {},
   "source": [
    "6. 4자리의 숫자를 입력받아 각각의 숫자를 더하는 프로그램을 만들어라 (입력갑 : 1234 -> 1 + 2 + 3 + 4 = 10)"
   ]
  },
  {
   "cell_type": "code",
   "execution_count": 9,
   "metadata": {},
   "outputs": [
    {
     "name": "stdout",
     "output_type": "stream",
     "text": [
      "10\n"
     ]
    }
   ],
   "source": [
    "num = input(\"4자리 숫자를 입력하세요: \")\n",
    "if len(num) != 4:\n",
    "    print(\"4자리 숫자가 아닙니다.\")\n",
    "else :\n",
    "    sum1 = sum(int(digit) for digit in num)\n",
    "print(sum1)"
   ]
  },
  {
   "cell_type": "markdown",
   "metadata": {},
   "source": [
    "\n",
    "7. 주어진 리스트 ['red', 'green', 'blue']에서 'green'을 삭제하고 리스트를 출력하세요."
   ]
  },
  {
   "cell_type": "code",
   "execution_count": null,
   "metadata": {},
   "outputs": [],
   "source": [
    "colors = ['red', 'green', 'blue']\n",
    "colors.remove('green')\n",
    "print(colors)"
   ]
  },
  {
   "cell_type": "markdown",
   "metadata": {},
   "source": [
    "8. 리스트 ['apple', 'banana', 'cherry']에 'orange'를 추가하고, 결과를 출력하는 프로그램을 작성하세요."
   ]
  },
  {
   "cell_type": "code",
   "execution_count": 10,
   "metadata": {},
   "outputs": [
    {
     "name": "stdout",
     "output_type": "stream",
     "text": [
      "['apple', 'banana', 'cherry', 'orange']\n"
     ]
    }
   ],
   "source": [
    "fruits = ['apple', 'banana', 'cherry']\n",
    "fruits.append('orange')\n",
    "print(fruits)"
   ]
  },
  {
   "cell_type": "code",
   "execution_count": null,
   "metadata": {},
   "outputs": [],
   "source": []
  }
 ],
 "metadata": {
  "kernelspec": {
   "display_name": "Python 3",
   "language": "python",
   "name": "python3"
  },
  "language_info": {
   "codemirror_mode": {
    "name": "ipython",
    "version": 3
   },
   "file_extension": ".py",
   "mimetype": "text/x-python",
   "name": "python",
   "nbconvert_exporter": "python",
   "pygments_lexer": "ipython3",
   "version": "3.12.4"
  }
 },
 "nbformat": 4,
 "nbformat_minor": 2
}
