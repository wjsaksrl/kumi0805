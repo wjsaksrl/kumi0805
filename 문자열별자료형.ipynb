{
 "cells": [
  {
   "cell_type": "markdown",
   "metadata": {},
   "source": [
    "# Flask나 node.js 같은 프레임워크 사용해서 실제 웹사이트 만들어보기\n"
   ]
  },
  {
   "cell_type": "markdown",
   "metadata": {},
   "source": [
    "## 문자열은 어떻게 만들고 사용할까?"
   ]
  },
  {
   "cell_type": "code",
   "execution_count": 2,
   "metadata": {},
   "outputs": [
    {
     "name": "stdout",
     "output_type": "stream",
     "text": [
      "Hello World\n",
      "python is fun\n"
     ]
    }
   ],
   "source": [
    "#큰따옴표\n",
    "\n",
    "a=\"Hello World\"\n",
    "b='python is fun'\n",
    "\n",
    "print(a)\n",
    "print(b)"
   ]
  },
  {
   "cell_type": "code",
   "execution_count": 9,
   "metadata": {},
   "outputs": [
    {
     "name": "stdout",
     "output_type": "stream",
     "text": [
      "\n",
      "    life is too short, you need python\n",
      "    \n"
     ]
    }
   ],
   "source": [
    "c=  \"\"\"\n",
    "    life is too short, you need python\n",
    "    \"\"\"\n",
    "print(c)"
   ]
  },
  {
   "cell_type": "code",
   "execution_count": 10,
   "metadata": {},
   "outputs": [
    {
     "name": "stdout",
     "output_type": "stream",
     "text": [
      "python's favoraite food is perl\n"
     ]
    }
   ],
   "source": [
    "a=\"python's favoraite food is perl\"\n",
    "print(a)"
   ]
  },
  {
   "cell_type": "code",
   "execution_count": 12,
   "metadata": {},
   "outputs": [
    {
     "name": "stdout",
     "output_type": "stream",
     "text": [
      "\"python is very easy.\" he says.\n"
     ]
    }
   ],
   "source": [
    "b='\"python is very easy.\" he says.'\n",
    "print(b)"
   ]
  },
  {
   "cell_type": "code",
   "execution_count": 14,
   "metadata": {},
   "outputs": [
    {
     "name": "stdout",
     "output_type": "stream",
     "text": [
      "python's favorite food is perl\n",
      "\"python is very easy.\" he says.\n"
     ]
    }
   ],
   "source": [
    "food = 'python\\'s favorite food is perl'\n",
    "print(food)\n",
    "\n",
    "say = '\\\"python is very easy.\\\" he says.'\n",
    "print(say)"
   ]
  },
  {
   "cell_type": "code",
   "execution_count": 16,
   "metadata": {},
   "outputs": [
    {
     "name": "stdout",
     "output_type": "stream",
     "text": [
      "life is too short\n",
      "You need python\n"
     ]
    }
   ],
   "source": [
    "#이세케이프 코드 \\n\n",
    "\n",
    "multiline = \"life is too short\\nYou need python\"\n",
    "print(multiline)"
   ]
  },
  {
   "cell_type": "code",
   "execution_count": 21,
   "metadata": {},
   "outputs": [
    {
     "name": "stdout",
     "output_type": "stream",
     "text": [
      "\n",
      "    Life is too short \n",
      "    You need pyhton\n",
      "\n",
      "\n",
      "    Life is too short \n",
      "    You need pyhton\n",
      "\n"
     ]
    }
   ],
   "source": [
    "# 작은따옴표 3개, 큰따옴표3개\n",
    "\n",
    "multiline='''\n",
    "    Life is too short \n",
    "    You need pyhton\n",
    "'''\n",
    "print(multiline)\n",
    "\n",
    "multiline2=\"\"\"\n",
    "    Life is too short \n",
    "    You need pyhton\n",
    "\"\"\"\n",
    "\n",
    "print(multiline2)"
   ]
  },
  {
   "cell_type": "markdown",
   "metadata": {},
   "source": [
    "### 문자열 더하기\n",
    "- 문자열을 더하거나 곱할 수 있다\n",
    "> 이렇게도 쓸 수 있다\n",
    "# 크기 1\n",
    "## 크기 2\n",
    "### 크기 3\n",
    "#### 크기 4"
   ]
  },
  {
   "cell_type": "code",
   "execution_count": 24,
   "metadata": {},
   "outputs": [
    {
     "name": "stdout",
     "output_type": "stream",
     "text": [
      "python is fun\n",
      "python is fun\n"
     ]
    }
   ],
   "source": [
    "# 문자열 더해서 연결하기\n",
    "\n",
    "head = \"python\"\n",
    "tail = \"is fun\"\n",
    "print(head, tail)\n",
    "print(head + ' ' + tail)"
   ]
  },
  {
   "cell_type": "code",
   "execution_count": 25,
   "metadata": {},
   "outputs": [
    {
     "name": "stdout",
     "output_type": "stream",
     "text": [
      "pythonpython\n"
     ]
    }
   ],
   "source": [
    "# 문자열의 곱하기\n",
    "\n",
    "a = 'python'\n",
    "print(a*2)"
   ]
  },
  {
   "cell_type": "code",
   "execution_count": 27,
   "metadata": {},
   "outputs": [
    {
     "name": "stdout",
     "output_type": "stream",
     "text": [
      "==================================================\n",
      "My Program\n",
      "==================================================\n"
     ]
    }
   ],
   "source": [
    "print(\"=\"*50)\n",
    "print(\"My Program\")\n",
    "print(\"=\"*50)"
   ]
  },
  {
   "cell_type": "code",
   "execution_count": 30,
   "metadata": {},
   "outputs": [
    {
     "name": "stdout",
     "output_type": "stream",
     "text": [
      "a: 34\n",
      "b: 6\n"
     ]
    }
   ],
   "source": [
    "# 문자길이구하기 len()\n",
    "a = \"life is too short, you need python\"\n",
    "print(\"a:\",len(a))\n",
    "b='python'\n",
    "print(\"b:\",len(b))"
   ]
  },
  {
   "cell_type": "markdown",
   "metadata": {},
   "source": [
    "## 문자열 인덱싱과 슬라이싱"
   ]
  },
  {
   "cell_type": "code",
   "execution_count": 34,
   "metadata": {},
   "outputs": [
    {
     "name": "stdout",
     "output_type": "stream",
     "text": [
      "34\n",
      "l\n",
      "i\n",
      "f\n",
      "e\n",
      "l i f e\n",
      "life\n"
     ]
    }
   ],
   "source": [
    "a=\"life is too short, you need python\"\n",
    "print(len(a))\n",
    "print(a[0])\n",
    "print(a[1])\n",
    "print(a[2])\n",
    "print(a[3])\n",
    "print(a[0],a[1],a[2],a[3])\n",
    "print(a[0:4])"
   ]
  },
  {
   "cell_type": "code",
   "execution_count": null,
   "metadata": {},
   "outputs": [],
   "source": []
  }
 ],
 "metadata": {
  "kernelspec": {
   "display_name": "Python 3",
   "language": "python",
   "name": "python3"
  },
  "language_info": {
   "codemirror_mode": {
    "name": "ipython",
    "version": 3
   },
   "file_extension": ".py",
   "mimetype": "text/x-python",
   "name": "python",
   "nbconvert_exporter": "python",
   "pygments_lexer": "ipython3",
   "version": "3.12.4"
  }
 },
 "nbformat": 4,
 "nbformat_minor": 2
}
