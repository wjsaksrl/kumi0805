{
 "cells": [
  {
   "cell_type": "code",
   "execution_count": 16,
   "metadata": {},
   "outputs": [
    {
     "name": "stdout",
     "output_type": "stream",
     "text": [
      "[1, 2, 3, 4]\n"
     ]
    }
   ],
   "source": [
    "a=[1,2,3,4]\n",
    "result=[]\n",
    "for num in a:\n",
    "    result.append(num)\n",
    "\n",
    "print(result)"
   ]
  },
  {
   "cell_type": "code",
   "execution_count": 20,
   "metadata": {},
   "outputs": [
    {
     "name": "stdout",
     "output_type": "stream",
     "text": [
      "[3, 6, 9, 12]\n",
      "[6, 12]\n"
     ]
    }
   ],
   "source": [
    "a=[1,2,3,4]\n",
    "result=[num*3 for num in a]\n",
    "print(result)\n",
    "\n",
    "result=[num*3 for num in a if num%2==0]\n",
    "print(result)"
   ]
  },
  {
   "cell_type": "code",
   "execution_count": 19,
   "metadata": {},
   "outputs": [
    {
     "name": "stdout",
     "output_type": "stream",
     "text": [
      "['2*1*2', '2*2*4', '2*3*6', '2*4*8', '2*5*10', '2*6*12', '2*7*14', '2*8*16', '2*9*18', '3*1*3', '3*2*6', '3*3*9', '3*4*12', '3*5*15', '3*6*18', '3*7*21', '3*8*24', '3*9*27', '4*1*4', '4*2*8', '4*3*12', '4*4*16', '4*5*20', '4*6*24', '4*7*28', '4*8*32', '4*9*36', '5*1*5', '5*2*10', '5*3*15', '5*4*20', '5*5*25', '5*6*30', '5*7*35', '5*8*40', '5*9*45', '6*1*6', '6*2*12', '6*3*18', '6*4*24', '6*5*30', '6*6*36', '6*7*42', '6*8*48', '6*9*54', '7*1*7', '7*2*14', '7*3*21', '7*4*28', '7*5*35', '7*6*42', '7*7*49', '7*8*56', '7*9*63', '8*1*8', '8*2*16', '8*3*24', '8*4*32', '8*5*40', '8*6*48', '8*7*56', '8*8*64', '8*9*72', '9*1*9', '9*2*18', '9*3*27', '9*4*36', '9*5*45', '9*6*54', '9*7*63', '9*8*72', '9*9*81']\n"
     ]
    }
   ],
   "source": [
    "result = [f\"{x}*{y}*{x*y}\" for x in range(2,10) for y in range(1,10)]\n",
    "print(result)"
   ]
  },
  {
   "cell_type": "markdown",
   "metadata": {
    "vscode": {
     "languageId": "bat"
    }
   },
   "source": [
    "git init\n",
    "git add .\n",
    "Get-Date -UFormat \"%A %B/%d/%Y\"\n",
    "$Time = Get-Date\n",
    "$Time.ToUniversalTime()\n",
    "git commit $Time\n",
    "git push"
   ]
  }
 ],
 "metadata": {
  "kernelspec": {
   "display_name": "Python 3",
   "language": "python",
   "name": "python3"
  },
  "language_info": {
   "codemirror_mode": {
    "name": "ipython",
    "version": 3
   },
   "file_extension": ".py",
   "mimetype": "text/x-python",
   "name": "python",
   "nbconvert_exporter": "python",
   "pygments_lexer": "ipython3",
   "version": "3.12.4"
  }
 },
 "nbformat": 4,
 "nbformat_minor": 2
}
